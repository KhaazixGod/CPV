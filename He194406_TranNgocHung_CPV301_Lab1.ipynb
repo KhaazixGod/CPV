{
 "cells": [
  {
   "cell_type": "markdown",
   "id": "659af727-d6cd-4fa8-935c-28e58b6d8388",
   "metadata": {},
   "source": [
    "# Function 1: \n",
    "### Create a white background"
   ]
  },
  {
   "cell_type": "code",
   "execution_count": 11,
   "id": "7bba3912-a253-474c-8099-2086dd220809",
   "metadata": {},
   "outputs": [],
   "source": [
    "import numpy as np\n",
    "import cv2 as cv\n",
    "\n",
    "img = np.ones((512,512,3), np.uint8)*255\n",
    "cv.imshow(\"Canvas\", img)\n",
    "cv.waitKey(0)\n",
    "cv.destroyAllWindows()"
   ]
  },
  {
   "cell_type": "markdown",
   "id": "22514390-5ec5-459d-9aec-998528f14b4e",
   "metadata": {},
   "source": [
    "# Function 2:\n",
    "### Draw rectangle "
   ]
  },
  {
   "cell_type": "code",
   "execution_count": 2,
   "id": "4ec332df-fc96-42f7-b32a-a86e062adfb5",
   "metadata": {},
   "outputs": [],
   "source": [
    "import numpy as np\n",
    "import cv2 as cv\n",
    " \n",
    "drawing = False # true if mouse is pressed\n",
    "mode = True # if True, draw rectangle. Press 'm' to toggle to curve\n",
    "ix,iy = -1,-1\n",
    " \n",
    "# mouse callback function\n",
    "def draw_circle(event,x,y,flags,param):\n",
    "    global ix,iy,drawing,mode\n",
    " \n",
    "    if event == cv.EVENT_LBUTTONDOWN:\n",
    "        drawing = True\n",
    "        ix,iy = x,y\n",
    "\n",
    "    elif event == cv.EVENT_MOUSEMOVE:\n",
    "        if drawing == True:\n",
    "            if mode == True:\n",
    "                cv.rectangle(img,(ix,iy),(x,y),(0,255,0),-1)\n",
    "            else:\n",
    "                cv.circle(img,(x,y),5,(0,0,255),-1)\n",
    " \n",
    "    elif event == cv.EVENT_LBUTTONUP:\n",
    "        drawing = False\n",
    "        if mode == True:\n",
    "            cv.rectangle(img,(ix,iy),(x,y),(0,255,0),-1)\n",
    "        else:\n",
    "            cv.circle(img,(x,y),5,(0,0,255),-1)"
   ]
  },
  {
   "cell_type": "code",
   "execution_count": 3,
   "id": "8bd975cb-7caa-4e75-8c5a-d16566069010",
   "metadata": {},
   "outputs": [],
   "source": [
    "img = np.zeros((512,512,3), np.uint8)\n",
    "cv.namedWindow('image')\n",
    "cv.setMouseCallback('image',draw_circle)\n",
    "\n",
    "while(1):\n",
    "    cv.imshow('image',img)\n",
    "    k = cv.waitKey(1) & 0xFF\n",
    "    if k == ord('m'):\n",
    "        mode = not mode\n",
    "    elif k == 27:\n",
    "        break\n",
    "\n",
    "cv.destroyAllWindows()"
   ]
  },
  {
   "cell_type": "markdown",
   "id": "410fb7f4-9959-46e4-96d7-5c51b7a41a63",
   "metadata": {},
   "source": [
    "# Function 3: \n",
    "### Select translation transformation: enter translation information to create a new rectangle corresponding to the new coordinates"
   ]
  },
  {
   "cell_type": "code",
   "execution_count": 74,
   "id": "8ca5ea38-ce5c-4d99-893f-dd46959fedb7",
   "metadata": {},
   "outputs": [
    {
     "name": "stdin",
     "output_type": "stream",
     "text": [
      "Translation information:  13.3\n"
     ]
    }
   ],
   "source": [
    "import numpy as np\n",
    "import cv2 as cv\n",
    "ix = 30\n",
    "iy = 30 \n",
    "x = 90\n",
    "y = 90\n",
    "def draw(input_):\n",
    "    cv.rectangle(img,(ix,iy),(x,y),(255,0,0),-1)\n",
    "    cv.rectangle(img_2,(int(ix+input_),int(iy+input_)),(int(x+input_),int(y+input_)),(0,255,0),-1)\n",
    "# Create a black image\n",
    "img = np.ones((512,512,3), np.uint8)*255\n",
    "img_2 = np.ones((512,512,3), np.uint8)*255\n",
    "input_ = float(input(\"Translation information: \"))\n",
    "draw(input_)\n",
    "cv.imshow(\"First\", img)\n",
    "cv.imshow(\"Second\",img_2)\n",
    "cv.waitKey(0)\n",
    "cv.destroyAllWindows()"
   ]
  },
  {
   "cell_type": "markdown",
   "id": "d59db363-09d8-4c3e-b532-bac0bde85ab2",
   "metadata": {},
   "source": [
    "# Function 4:\n",
    "### Rotation transformation \n",
    "### Note: Unit angle is Degree"
   ]
  },
  {
   "cell_type": "code",
   "execution_count": 114,
   "id": "78fc7ab1-6769-4edb-89c4-aee6087ca704",
   "metadata": {},
   "outputs": [
    {
     "name": "stdin",
     "output_type": "stream",
     "text": [
      "Rotation information:  90\n"
     ]
    }
   ],
   "source": [
    "import numpy as np\n",
    "import cv2 as cv\n",
    "import math\n",
    "ix = 220\n",
    "iy = 220\n",
    "x = 300\n",
    "y = 300\n",
    "\n",
    "def draw(angle):\n",
    "    cv.rectangle(img,(ix,iy),(x,y),(255,0,0),5)\n",
    "    #cv.rectangle(img_2,(ix,iy),(int(x*input_),int(y*input_)),(0,255,0),-1)\n",
    "    cv.line(img_2,calculate(-40,-40,angle),calculate(-40,40,angle),(0,255,0),5)\n",
    "    cv.line(img_2,calculate(-40,-40,angle),calculate(40,-40,angle),(0,255,0),5)\n",
    "    cv.line(img_2,calculate(40,-40,angle),calculate(40,40,angle),(0,255,0),5)\n",
    "    cv.line(img_2,calculate(-40,40,angle),calculate(40,40,angle),(0,255,0),5)\n",
    "def calculate(x,y,angle):\n",
    "    sin_theta = math.sin(angle)\n",
    "    cos_theta = math.cos(angle)\n",
    "    x_new = int(cos_theta * x - sin_theta*y)\n",
    "    y_new = int(sin_theta * x + cos_theta*y)\n",
    "    return (x_new+260,y_new+260)\n",
    "# Create a black image\n",
    "img = np.ones((512,512,3), np.uint8)*255\n",
    "img_2 = np.ones((512,512,3), np.uint8)*255\n",
    "input_ = float(input(\"Rotation information: \"))\n",
    "radians_input = input_ * (math.pi / 180)\n",
    "draw(radians_input)\n",
    "cv.imshow(\"First\", img)\n",
    "cv.imshow(\"Second\",img_2)\n",
    "cv.waitKey(0)\n",
    "cv.destroyAllWindows()"
   ]
  },
  {
   "cell_type": "markdown",
   "id": "2db3fcbe-fa36-4ed5-8fff-d27877f5fb74",
   "metadata": {},
   "source": [
    "# Function 5: \n",
    "### Select the scaling transformation: enter the scaling factors information to draw a new rectangle corresponding to the new coordinates."
   ]
  },
  {
   "cell_type": "code",
   "execution_count": 63,
   "id": "835f5ed3-7bb4-4ea2-9933-185efc5fd4cb",
   "metadata": {},
   "outputs": [
    {
     "name": "stdin",
     "output_type": "stream",
     "text": [
      "Scale information:  0.3\n"
     ]
    }
   ],
   "source": [
    "import numpy as np\n",
    "import cv2 as cv\n",
    "ix = 30\n",
    "iy = 30 \n",
    "x = 90\n",
    "y = 90\n",
    "def draw(input_):\n",
    "    cv.rectangle(img,(ix,iy),(x,y),(255,0,0),-1)\n",
    "    cv.rectangle(img_2,(ix,iy),(int(x*input_),int(y*input_)),(0,255,0),-1)\n",
    "# Create a black image\n",
    "img = np.ones((512,512,3), np.uint8)*255\n",
    "img_2 = np.ones((512,512,3), np.uint8)*255\n",
    "input_ = float(input(\"Scale information: \"))\n",
    "draw(input_)\n",
    "cv.imshow(\"First\", img)\n",
    "cv.imshow(\"Second\",img_2)\n",
    "cv.waitKey(0)\n",
    "cv.destroyAllWindows()"
   ]
  },
  {
   "cell_type": "code",
   "execution_count": null,
   "id": "9059c694-ce35-44d3-a056-026860676538",
   "metadata": {},
   "outputs": [],
   "source": []
  },
  {
   "cell_type": "code",
   "execution_count": null,
   "id": "1c2ad01e-fc6c-4b0d-a0fb-1aba08e777ff",
   "metadata": {},
   "outputs": [],
   "source": []
  },
  {
   "cell_type": "code",
   "execution_count": null,
   "id": "756a09ca-1d43-4547-88ad-55c219ebd923",
   "metadata": {},
   "outputs": [],
   "source": []
  },
  {
   "cell_type": "code",
   "execution_count": null,
   "id": "35cd443d-e472-4586-9aa2-f3b6b219d9f1",
   "metadata": {},
   "outputs": [],
   "source": []
  },
  {
   "cell_type": "code",
   "execution_count": null,
   "id": "00854143-9381-4dc3-abaa-7dddda80d464",
   "metadata": {},
   "outputs": [],
   "source": []
  },
  {
   "cell_type": "code",
   "execution_count": null,
   "id": "e4a5d61c-29bf-49a5-b535-9df60165e19f",
   "metadata": {},
   "outputs": [],
   "source": []
  },
  {
   "cell_type": "code",
   "execution_count": null,
   "id": "6678158f-d932-4884-a877-d33d2dd82104",
   "metadata": {},
   "outputs": [],
   "source": []
  }
 ],
 "metadata": {
  "kernelspec": {
   "display_name": "Python 3 (ipykernel)",
   "language": "python",
   "name": "python3"
  },
  "language_info": {
   "codemirror_mode": {
    "name": "ipython",
    "version": 3
   },
   "file_extension": ".py",
   "mimetype": "text/x-python",
   "name": "python",
   "nbconvert_exporter": "python",
   "pygments_lexer": "ipython3",
   "version": "3.12.7"
  }
 },
 "nbformat": 4,
 "nbformat_minor": 5
}
